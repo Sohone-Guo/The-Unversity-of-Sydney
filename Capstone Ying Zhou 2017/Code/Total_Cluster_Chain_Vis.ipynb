{
 "cells": [
  {
   "cell_type": "code",
   "execution_count": 1,
   "metadata": {
    "collapsed": true
   },
   "outputs": [],
   "source": [
    "import pandas as pd\n",
    "import os\n",
    "from pandas.io.json import json_normalize\n",
    "import plotly\n",
    "# plotly.tools.set_credentials_file(username='sohone', api_key='upwu3D8WNIogVrReA12o')\n",
    "plotly.tools.set_credentials_file(username='XuhongGuo', api_key='EAOxsP5iRxJHrkFPb69W')\n",
    "import plotly.plotly as py\n",
    "import plotly.graph_objs as go\n",
    "import pandas as df\n",
    "import math\n",
    "from pandas.tslib import Timestamp\n",
    "import plotly.figure_factory as ff\n",
    "import numpy\n",
    "import json\n",
    "from datetime import timedelta"
   ]
  },
  {
   "cell_type": "code",
   "execution_count": 2,
   "metadata": {
    "collapsed": true
   },
   "outputs": [],
   "source": [
    "'''Check if the folder exited or make the folder'''\n",
    "current_address = os.getcwd()\n",
    "parent_address = os.path.dirname(current_address)\n",
    "output_address = parent_address + '\\\\output\\\\'\n",
    "input_address = parent_address + '\\\\input\\\\'\n",
    "cluster_data_address = output_address + 'Revert_cluster_data\\\\'\n",
    "chain_data_address = output_address + 'Revert_chain_data\\\\'\n",
    "\n",
    "if not os.path.exists(output_address):\n",
    "    os.makedirs(output_address)  # Create the output folder\n",
    "if not os.path.exists(input_address):\n",
    "    os.makedirs(input_address)  # Create the input folder\n",
    "if not os.path.exists(cluster_data_address):\n",
    "    os.makedirs(cluster_data_address)  # Create the output folder\n",
    "if not os.path.exists(chain_data_address):\n",
    "    os.makedirs(chain_data_address)  # Create the input folder\n",
    "\n",
    "'''Set the original data address'''\n",
    "data_original = input_address + 'fa\\\\'\n",
    "clear_data = input_address + 'clearn\\\\'"
   ]
  },
  {
   "cell_type": "code",
   "execution_count": 3,
   "metadata": {
    "collapsed": false
   },
   "outputs": [
    {
     "name": "stdout",
     "output_type": "stream",
     "text": [
      "The error files is :188\n"
     ]
    },
    {
     "data": {
      "text/html": [
       "<div>\n",
       "<table border=\"1\" class=\"dataframe\">\n",
       "  <thead>\n",
       "    <tr style=\"text-align: right;\">\n",
       "      <th></th>\n",
       "      <th>Unnamed: 0</th>\n",
       "      <th>title</th>\n",
       "      <th>group_range</th>\n",
       "      <th>start_time</th>\n",
       "      <th>end_time</th>\n",
       "      <th>duration</th>\n",
       "      <th>longest_revert_interval</th>\n",
       "      <th>shortest_revert_interval</th>\n",
       "      <th>medium_revert_interval</th>\n",
       "      <th>number_of_chains</th>\n",
       "      <th>number_of_reverts</th>\n",
       "      <th>number_of_anonymous_reverts</th>\n",
       "      <th>number_of_unique_registered_users</th>\n",
       "      <th>longest_chain_duration</th>\n",
       "      <th>shortest_chain_duration</th>\n",
       "      <th>medium_chain_duration</th>\n",
       "      <th>Category</th>\n",
       "    </tr>\n",
       "  </thead>\n",
       "  <tbody>\n",
       "    <tr>\n",
       "      <th>0</th>\n",
       "      <td>2.0</td>\n",
       "      <td>...And Justice for All (album)</td>\n",
       "      <td>[Timestamp('2005-09-05 23:41:38'), Timestamp('...</td>\n",
       "      <td>2005-09-05 23:41:38</td>\n",
       "      <td>2005-09-15 21:23:42</td>\n",
       "      <td>9 days 21:42:04</td>\n",
       "      <td>9 days 21:42:04</td>\n",
       "      <td>0 days 07:59:22</td>\n",
       "      <td>5 days 02:50:43</td>\n",
       "      <td>2.0</td>\n",
       "      <td>2.0</td>\n",
       "      <td>2.0</td>\n",
       "      <td>2.0</td>\n",
       "      <td>9 days 21:42:04</td>\n",
       "      <td>0 days 07:59:22</td>\n",
       "      <td>5 days 02:50:43</td>\n",
       "      <td>NaN</td>\n",
       "    </tr>\n",
       "    <tr>\n",
       "      <th>1</th>\n",
       "      <td>35.0</td>\n",
       "      <td>...And Justice for All (album)</td>\n",
       "      <td>[Timestamp('2007-10-17 12:46:22'), Timestamp('...</td>\n",
       "      <td>2007-10-17 12:46:22</td>\n",
       "      <td>2007-10-22 19:58:14</td>\n",
       "      <td>5 days 07:11:52</td>\n",
       "      <td>4 days 22:24:38</td>\n",
       "      <td>0 days 07:52:10</td>\n",
       "      <td>0 days 18:14:07.500000</td>\n",
       "      <td>3.0</td>\n",
       "      <td>6.0</td>\n",
       "      <td>4.0</td>\n",
       "      <td>2.0</td>\n",
       "      <td>5 days 07:11:52</td>\n",
       "      <td>0 days 14:28:43</td>\n",
       "      <td>4 days 22:24:38</td>\n",
       "      <td>NaN</td>\n",
       "    </tr>\n",
       "    <tr>\n",
       "      <th>2</th>\n",
       "      <td>37.0</td>\n",
       "      <td>...And Justice for All (album)</td>\n",
       "      <td>[Timestamp('2007-11-09 22:08:27'), Timestamp('...</td>\n",
       "      <td>2007-11-09 22:08:27</td>\n",
       "      <td>2007-11-23 22:05:29</td>\n",
       "      <td>13 days 23:57:02</td>\n",
       "      <td>11 days 05:28:49</td>\n",
       "      <td>0 days 18:24:26</td>\n",
       "      <td>6 days 23:58:11</td>\n",
       "      <td>2.0</td>\n",
       "      <td>4.0</td>\n",
       "      <td>2.0</td>\n",
       "      <td>3.0</td>\n",
       "      <td>13 days 23:57:02</td>\n",
       "      <td>11 days 05:28:49</td>\n",
       "      <td>12 days 14:42:55.500000</td>\n",
       "      <td>NaN</td>\n",
       "    </tr>\n",
       "  </tbody>\n",
       "</table>\n",
       "</div>"
      ],
      "text/plain": [
       "   Unnamed: 0                           title  \\\n",
       "0         2.0  ...And Justice for All (album)   \n",
       "1        35.0  ...And Justice for All (album)   \n",
       "2        37.0  ...And Justice for All (album)   \n",
       "\n",
       "                                         group_range           start_time  \\\n",
       "0  [Timestamp('2005-09-05 23:41:38'), Timestamp('...  2005-09-05 23:41:38   \n",
       "1  [Timestamp('2007-10-17 12:46:22'), Timestamp('...  2007-10-17 12:46:22   \n",
       "2  [Timestamp('2007-11-09 22:08:27'), Timestamp('...  2007-11-09 22:08:27   \n",
       "\n",
       "              end_time          duration longest_revert_interval  \\\n",
       "0  2005-09-15 21:23:42   9 days 21:42:04         9 days 21:42:04   \n",
       "1  2007-10-22 19:58:14   5 days 07:11:52         4 days 22:24:38   \n",
       "2  2007-11-23 22:05:29  13 days 23:57:02        11 days 05:28:49   \n",
       "\n",
       "  shortest_revert_interval  medium_revert_interval  number_of_chains  \\\n",
       "0          0 days 07:59:22         5 days 02:50:43               2.0   \n",
       "1          0 days 07:52:10  0 days 18:14:07.500000               3.0   \n",
       "2          0 days 18:24:26         6 days 23:58:11               2.0   \n",
       "\n",
       "   number_of_reverts  number_of_anonymous_reverts  \\\n",
       "0                2.0                          2.0   \n",
       "1                6.0                          4.0   \n",
       "2                4.0                          2.0   \n",
       "\n",
       "   number_of_unique_registered_users longest_chain_duration  \\\n",
       "0                                2.0        9 days 21:42:04   \n",
       "1                                2.0        5 days 07:11:52   \n",
       "2                                3.0       13 days 23:57:02   \n",
       "\n",
       "  shortest_chain_duration    medium_chain_duration Category  \n",
       "0         0 days 07:59:22          5 days 02:50:43      NaN  \n",
       "1         0 days 14:28:43          4 days 22:24:38      NaN  \n",
       "2        11 days 05:28:49  12 days 14:42:55.500000      NaN  "
      ]
     },
     "execution_count": 3,
     "metadata": {},
     "output_type": "execute_result"
    }
   ],
   "source": [
    "# ROOT = chain_data_address  # Read the files\n",
    "ROOT = cluster_data_address  # Read the files\n",
    "\n",
    "file_name = [ROOT+f for f in os.listdir(ROOT)]\n",
    "\n",
    "dfs = []\n",
    "error_num = 0\n",
    "for filename in file_name:\n",
    "    try:\n",
    "        dfs.append(pd.read_csv(filename))\n",
    "    except:\n",
    "        error_num+=1\n",
    "print('The error files is :'+str(error_num))\n",
    "\n",
    "text = pd.concat(dfs, ignore_index=True)\n",
    "text[:3]"
   ]
  },
  {
   "cell_type": "code",
   "execution_count": 4,
   "metadata": {
    "collapsed": false
   },
   "outputs": [
    {
     "name": "stdout",
     "output_type": "stream",
     "text": [
      "This is for cluster data. Begin to transfer the data type\n"
     ]
    }
   ],
   "source": [
    "if ROOT.split('\\\\')[-2] == 'Revert_chain_data':\n",
    "    print('This is for chain data. Begin to transfer the data type')\n",
    "    text['start_time'] = pd.to_datetime(text['start_time'])\n",
    "    text['end_time'] = pd.to_datetime(text['end_time'])\n",
    "    text['duration'] = pd.to_timedelta(text['duration'])\n",
    "    text['longest_revert_interval'] = pd.to_timedelta(text['longest_revert_interval'])\n",
    "    text['shortest_revert_interval'] = pd.to_timedelta(text['shortest_revert_interval'])\n",
    "    text['medium_revert_interval'] = pd.to_timedelta(text['medium_revert_interval'])\n",
    "elif ROOT.split('\\\\')[-2] == 'Revert_cluster_data':\n",
    "    print('This is for cluster data. Begin to transfer the data type')\n",
    "    text['start_time'] = pd.to_datetime(text['start_time'])\n",
    "    text['end_time'] = pd.to_datetime(text['end_time'])\n",
    "    text['duration'] = pd.to_timedelta(text['duration'])\n",
    "    text['longest_revert_interval'] = pd.to_timedelta(text['longest_revert_interval'])\n",
    "    text['shortest_revert_interval'] = pd.to_timedelta(text['shortest_revert_interval'])\n",
    "    text['medium_revert_interval'] = pd.to_timedelta(text['medium_revert_interval'])\n",
    "    text['longest_chain_duration'] = pd.to_timedelta(text['longest_chain_duration'])\n",
    "    text['shortest_chain_duration'] = pd.to_timedelta(text['shortest_chain_duration'])\n",
    "    text['medium_chain_duration'] = pd.to_timedelta(text['medium_chain_duration'])\n",
    "else:\n",
    "    print('This is not in cluster or chain, will exit the program')\n",
    "    exit()"
   ]
  },
  {
   "cell_type": "code",
   "execution_count": 73,
   "metadata": {
    "collapsed": true
   },
   "outputs": [],
   "source": [
    "# number of reverts larger than 20\n",
    "text = text[~text['number_of_reverts'].isin(list(range(20)))]"
   ]
  },
  {
   "cell_type": "code",
   "execution_count": 85,
   "metadata": {
    "collapsed": false
   },
   "outputs": [
    {
     "data": {
      "text/html": [
       "<iframe id=\"igraph\" scrolling=\"no\" style=\"border:none;\" seamless=\"seamless\" src=\"https://plot.ly/~XuhongGuo/114.embed\" height=\"525px\" width=\"100%\"></iframe>"
      ],
      "text/plain": [
       "<plotly.tools.PlotlyDisplay object>"
      ]
     },
     "execution_count": 85,
     "metadata": {},
     "output_type": "execute_result"
    }
   ],
   "source": [
    "# Draw It\n",
    "\n",
    "# y = pd.to_timedelta(select['longest_revert_interval']).astype('timedelta64')\n",
    "# start_time = pd.to_datetime(select['start_time'])\n",
    "title = select['title'].tolist()\n",
    "# y = select['frequence']\n",
    "# y = pd.to_timedelta(select['shortest_revert_interval']).astype('timedelta64')\n",
    "x =select['start_time']\n",
    "# y = select['number_of_unique_registered_users']\n",
    "# y = select['number_of_reverts']\n",
    "# y = select['frequence']\n",
    "# x = select['duration'][1390]/ numpy.timedelta64(1, 'h')\n",
    "y = [select['duration'][i] / numpy.timedelta64(1, 'h') for i in select.index.values]\n",
    "\n",
    "# x = select['number_of_unique_registered_users']\n",
    "# x = pd.to_timedelta(select['shortest_revert_interval']).astype('timedelta64')\n",
    "\n",
    "\n",
    "name_color_name = list(set(title))\n",
    "name_color = ['rgb(0,%i,%i)'%(int(255/i)+20,int(255/i)/4) for i in range(1,len(name_color_name)+1)]\n",
    "# print(name_color)\n",
    "# start_time\n",
    "# hist_data = total_size\n",
    "# group_labels = json\n",
    "# rug_text = total_data\n",
    "# colors = ['rgb(0, 0, 100)', 'rgb(0, 200, 200)']\n",
    "\n",
    "# data = []\n",
    "\n",
    "draw = go.Scatter(\n",
    "        x=x,\n",
    "        y = y,\n",
    "        mode='markers',\n",
    "#         mode = 'lines',\n",
    "#         line=dict(\n",
    "#             shape='spline'\n",
    "#         ),\n",
    "        marker=dict(\n",
    "            color = [name_color[name_color_name.index(title[i])] for i in range(len(title))]\n",
    "        ),\n",
    "        name = title,\n",
    "        text = title\n",
    "    )\n",
    "\n",
    "\n",
    "# for num_it in range(len(json)):\n",
    "#     data.append(\n",
    "#         go.Scatter(\n",
    "#         x=total_data[num_it],\n",
    "#         y = total_size[num_it],\n",
    "#         mode='markers',\n",
    "#         marker=dict(\n",
    "#             size = [i/4 for i in total_cicle_size[num_it]]\n",
    "#         ),\n",
    "#         name = json[num_it],\n",
    "#         text = ['Group: %s'%str(i) for i in total_group_num[num_it]]\n",
    "#     )\n",
    "#     )\n",
    "\n",
    "\n",
    "\n",
    "\n",
    "\n",
    "layout = go.Layout(\n",
    "    yaxis = dict(\n",
    "        type = 'log'\n",
    "    )\n",
    "\n",
    ")\n",
    "\n",
    "data = [draw]\n",
    "fig = go.Figure(data=data,layout = layout)\n",
    "# fig = go.Figure(data=data)\n",
    "py.iplot(fig)"
   ]
  },
  {
   "cell_type": "code",
   "execution_count": null,
   "metadata": {
    "collapsed": true
   },
   "outputs": [],
   "source": []
  }
 ],
 "metadata": {
  "kernelspec": {
   "display_name": "Python 3",
   "language": "python",
   "name": "python3"
  },
  "language_info": {
   "codemirror_mode": {
    "name": "ipython",
    "version": 3
   },
   "file_extension": ".py",
   "mimetype": "text/x-python",
   "name": "python",
   "nbconvert_exporter": "python",
   "pygments_lexer": "ipython3",
   "version": "3.6.0"
  }
 },
 "nbformat": 4,
 "nbformat_minor": 2
}
