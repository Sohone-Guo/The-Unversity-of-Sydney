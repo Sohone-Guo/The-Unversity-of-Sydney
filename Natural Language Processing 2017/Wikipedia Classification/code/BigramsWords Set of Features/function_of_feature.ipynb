{
 "cells": [
  {
   "cell_type": "code",
   "execution_count": 1,
   "metadata": {
    "collapsed": true
   },
   "outputs": [],
   "source": [
    "from string import punctuation\n",
    "from math import sqrt\n",
    "from collections import defaultdict\n",
    "from multiprocessing import Pool\n",
    "import pandas as pd\n",
    "import os\n",
    "from nltk import *\n",
    "from nltk.corpus import wordnet as wn\n",
    "import numpy as np\n",
    "import re"
   ]
  },
  {
   "cell_type": "code",
   "execution_count": 2,
   "metadata": {
    "collapsed": false
   },
   "outputs": [
    {
     "name": "stdout",
     "output_type": "stream",
     "text": [
      "Data:  2975  Result:  1\n"
     ]
    }
   ],
   "source": [
    "ROOT_data = '../../data/wikipedia_txt/'\n",
    "file_list_data = [ROOT_data+f for f in os.listdir(ROOT_data)]\n",
    "\n",
    "ROOT_result = 'result/'\n",
    "file_list_result = [f for f in os.listdir(ROOT_result)]\n",
    "\n",
    "print('Data: ',len(file_list_data),' Result: ',len(file_list_result))"
   ]
  },
  {
   "cell_type": "code",
   "execution_count": 4,
   "metadata": {
    "collapsed": false
   },
   "outputs": [
    {
     "name": "stderr",
     "output_type": "stream",
     "text": [
      "/root/anaconda3/lib/python3.6/site-packages/ipykernel/__main__.py:3: DeprecationWarning: 'U' mode is deprecated\n",
      "  app.launch_new_instance()\n"
     ]
    },
    {
     "name": "stdout",
     "output_type": "stream",
     "text": [
      "210615\n"
     ]
    }
   ],
   "source": [
    "total_feature = []\n",
    "for file in file_list_data:\n",
    "    text = open(file,'rU').read()\n",
    "    text = text.replace('--', ' ')\n",
    "    text = word_tokenize(text)\n",
    "    \n",
    "    words = list(zip(text,text[1:]))\n",
    "    \n",
    "    # VB+NN\n",
    "    total = []\n",
    "    for two in words:\n",
    "        tag_ = pos_tag(two)\n",
    "        if len(re.findall('JJ|RB|VB',tag_[0][1])) > 0 and len(re.findall('NN',tag_[1][1])) > 0:\n",
    "            total.append(two)\n",
    "\n",
    "    \n",
    "    total_feature.extend(list(set(total)))\n",
    "    \n",
    "total_feature = list(set(total_feature))\n",
    "print(len(total_feature))"
   ]
  },
  {
   "cell_type": "code",
   "execution_count": 18,
   "metadata": {
    "collapsed": false
   },
   "outputs": [
    {
     "name": "stderr",
     "output_type": "stream",
     "text": [
      "/root/anaconda3/lib/python3.6/site-packages/ipykernel/__main__.py:10: DeprecationWarning: 'U' mode is deprecated\n"
     ]
    },
    {
     "name": "stdout",
     "output_type": "stream",
     "text": [
      "0.06722689075630252\n",
      "0.13445378151260504\n",
      "0.20168067226890757\n",
      "0.2689075630252101\n",
      "0.33613445378151263\n",
      "0.40336134453781514\n",
      "0.47058823529411764\n",
      "0.5378151260504201\n",
      "0.6050420168067226\n",
      "0.6722689075630253\n",
      "0.7394957983193278\n",
      "0.8067226890756303\n",
      "0.8739495798319328\n",
      "0.9411764705882353\n"
     ]
    }
   ],
   "source": [
    "\n",
    "def digital(x):\n",
    "    return text.count(x)\n",
    "    \n",
    "\n",
    "total_data = []\n",
    "count_name = 0\n",
    "for file in file_list_data:\n",
    "    count_name+=1\n",
    "    text = open(file,'rU').read()\n",
    "    text = text.replace('--', ' ')\n",
    "    text = word_tokenize(text)\n",
    "    \n",
    "    \n",
    "    words = list(zip(text,text[1:]))\n",
    "    \n",
    "    # VB+NN\n",
    "    total = []\n",
    "    for two in words:\n",
    "        tag_ = pos_tag(two)\n",
    "        if len(re.findall('VB|JJ|RB',tag_[0][1])) > 0 and len(re.findall('NN',tag_[1][1])) > 0:\n",
    "            total.append(two)\n",
    "    \n",
    "    text = total\n",
    "    \n",
    "    feature_data = list(map(digital,total_feature))\n",
    "    feature_data.append(file.strip().split('/')[-1].split('.')[0])\n",
    "    \n",
    "    with open('result/two_NN_data.csv','a+') as file:\n",
    "        file.write(','.join(list(map(str,feature_data)))+'\\n')\n",
    "    if count_name % 200 == 0:\n",
    "        print(count_name/len(file_list_data))\n",
    "    "
   ]
  },
  {
   "cell_type": "code",
   "execution_count": null,
   "metadata": {
    "collapsed": true
   },
   "outputs": [],
   "source": []
  }
 ],
 "metadata": {
  "kernelspec": {
   "display_name": "Python 3",
   "language": "python",
   "name": "python3"
  },
  "language_info": {
   "codemirror_mode": {
    "name": "ipython",
    "version": 3
   },
   "file_extension": ".py",
   "mimetype": "text/x-python",
   "name": "python",
   "nbconvert_exporter": "python",
   "pygments_lexer": "ipython3",
   "version": "3.6.0"
  }
 },
 "nbformat": 4,
 "nbformat_minor": 2
}
